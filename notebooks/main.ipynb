{
 "cells": [
  {
   "cell_type": "code",
   "execution_count": null,
   "metadata": {},
   "outputs": [],
   "source": [
    "import os\n",
    "import json\n",
    "import time\n",
    "\n",
    "from utils import init_spark, remove_accents, to_snake_case, value_splitter\n",
    "from airport_api import AirportApi\n",
    "\n",
    "import pandas as pd\n",
    "\n",
    "from pyspark.sql.functions import col, to_timestamp\n",
    "from pyspark.sql.types import *"
   ]
  },
  {
   "cell_type": "markdown",
   "metadata": {},
   "source": [
    "### Diretórios dos dados"
   ]
  },
  {
   "cell_type": "code",
   "execution_count": null,
   "metadata": {},
   "outputs": [],
   "source": [
    "relative_air_cia_dir = '../../AIR_CIA'\n",
    "relative_vra_dir = '../../VRA'\n",
    "\n",
    "target_processed_data_dir = './processed_data'"
   ]
  },
  {
   "cell_type": "markdown",
   "metadata": {},
   "source": [
    "### Inicialização do PySpark"
   ]
  },
  {
   "cell_type": "code",
   "execution_count": null,
   "metadata": {},
   "outputs": [],
   "source": [
    "spark = init_spark()"
   ]
  },
  {
   "cell_type": "code",
   "execution_count": null,
   "metadata": {},
   "outputs": [],
   "source": [
    "processed_air_cia = raw_air_cia = spark.read.options(header = True, delimiter=';').csv(f'{relative_air_cia_dir}')\n",
    "processed_vra = raw_vra = spark.read.json(f'{relative_vra_dir}')"
   ]
  },
  {
   "cell_type": "markdown",
   "metadata": {},
   "source": [
    "### Mudar nomes de coluna para snake case"
   ]
  },
  {
   "cell_type": "code",
   "execution_count": null,
   "metadata": {},
   "outputs": [],
   "source": [
    "for column_name in raw_air_cia.columns:\n",
    "    processed_air_cia = processed_air_cia.withColumnRenamed(column_name, to_snake_case(remove_accents(column_name)))\n",
    "\n",
    "for column_name in raw_vra.columns:\n",
    "    processed_vra = processed_vra.withColumnRenamed(column_name, to_snake_case(remove_accents(column_name)))"
   ]
  },
  {
   "cell_type": "markdown",
   "metadata": {},
   "source": [
    "## Procedimentos VRA"
   ]
  },
  {
   "cell_type": "markdown",
   "metadata": {},
   "source": [
    "### `icao_empresa_aerea` para `iata_empresa_aerea`\n",
    "Os valores desta coluna, na verdade estão listando os códigos IATA, é possível verificar isso através da chamada de API, quando o mesmo código não existe no índice de ICAO."
   ]
  },
  {
   "cell_type": "code",
   "execution_count": null,
   "metadata": {},
   "outputs": [],
   "source": [
    "processed_vra = processed_vra.withColumnRenamed('icao_empresa_aerea', 'iata_empresa_aerea')"
   ]
  },
  {
   "cell_type": "markdown",
   "metadata": {},
   "source": [
    "### Colunas de timestamp para `DateType`"
   ]
  },
  {
   "cell_type": "code",
   "execution_count": null,
   "metadata": {},
   "outputs": [],
   "source": [
    "processed_vra = processed_vra.withColumn('partida_prevista', to_timestamp(col('partida_prevista')))\\\n",
    "    .withColumn('chegada_prevista', to_timestamp(col('chegada_prevista')))\\\n",
    "    .withColumn('partida_real', to_timestamp(col('partida_real')))\\\n",
    "    .withColumn('chegada_real', to_timestamp(col('chegada_real')))"
   ]
  },
  {
   "cell_type": "code",
   "execution_count": null,
   "metadata": {},
   "outputs": [],
   "source": [
    "processed_vra.write.format('parquet').mode('overwrite').save(f'{target_processed_data_dir}/vra/vra.parquet')"
   ]
  },
  {
   "cell_type": "markdown",
   "metadata": {},
   "source": [
    "## Procedimentos AIR_CIA"
   ]
  },
  {
   "cell_type": "markdown",
   "metadata": {},
   "source": [
    "### Separação de colunas `icao_iata`"
   ]
  },
  {
   "cell_type": "code",
   "execution_count": null,
   "metadata": {},
   "outputs": [],
   "source": [
    "processed_air_cia = processed_air_cia.withColumn('iata', value_splitter(col('icao_iata'))[0])\\\n",
    "    .withColumn('icao', value_splitter(col('icao_iata'))[1])\\\n",
    "        .drop(col('icao_iata'))"
   ]
  },
  {
   "cell_type": "code",
   "execution_count": null,
   "metadata": {},
   "outputs": [],
   "source": [
    "processed_air_cia.show()"
   ]
  },
  {
   "cell_type": "code",
   "execution_count": null,
   "metadata": {},
   "outputs": [],
   "source": [
    "processed_air_cia.write.format('parquet').mode('overwrite').save(f'{target_processed_data_dir}/air_cia/air_cia.parquet')"
   ]
  },
  {
   "cell_type": "markdown",
   "metadata": {},
   "source": [
    "## Procedimentos aerodromos"
   ]
  },
  {
   "cell_type": "code",
   "execution_count": null,
   "metadata": {},
   "outputs": [],
   "source": [
    "processed_vra = spark.read.parquet(f'{target_processed_data_dir}/vra/vra.parquet')"
   ]
  },
  {
   "cell_type": "markdown",
   "metadata": {},
   "source": [
    "### Coletar IATA e ICAO"
   ]
  },
  {
   "cell_type": "code",
   "execution_count": null,
   "metadata": {},
   "outputs": [],
   "source": [
    "key = \"my_rapidapi_key\" # Adiquirir chave para API em https://rapidapi.com/Active-api/api/airport-info\n",
    "host = \"airport-info.p.rapidapi.com\"\n",
    "\n",
    "api = AirportApi(key, host)"
   ]
  },
  {
   "cell_type": "code",
   "execution_count": null,
   "metadata": {},
   "outputs": [],
   "source": [
    "collected_icao = []\n",
    "collected_iata = []\n",
    "\n",
    "for row in processed_vra.select('icao_aerodromo_origem', 'icao_aerodromo_destino', 'iata_empresa_aerea').collect():\n",
    "    if row['icao_aerodromo_origem'] not in collected_icao:\n",
    "        collected_icao.append(row['icao_aerodromo_origem'])\n",
    "    if row['icao_aerodromo_destino'] not in collected_icao:\n",
    "        collected_icao.append(row['icao_aerodromo_destino'])\n",
    "\n",
    "    if row['iata_empresa_aerea'] not in collected_iata:\n",
    "        collected_iata.append(row['iata_empresa_aerea'])"
   ]
  },
  {
   "cell_type": "code",
   "execution_count": null,
   "metadata": {},
   "outputs": [],
   "source": [
    "icao_data = []\n",
    "\n",
    "for icao in collected_icao:\n",
    "    this_icao = api.get_airport_info_by_icao(icao)\n",
    "    this_icao = json.loads(this_icao)\n",
    "\n",
    "    if this_icao.get('error', None):\n",
    "        this_icao['icao'] = icao\n",
    "        \n",
    "    icao_data.append(this_icao)\n",
    "\n",
    "iata_data = []\n",
    "\n",
    "for iata in collected_iata:\n",
    "    this_iata = api.get_airport_info_by_iata(iata)\n",
    "    this_iata = json.loads(this_iata)\n",
    "\n",
    "    if this_iata.get('error', None):\n",
    "        this_iata['iata'] = iata\n",
    "\n",
    "    iata_data.append(this_iata)"
   ]
  },
  {
   "cell_type": "code",
   "execution_count": null,
   "metadata": {},
   "outputs": [],
   "source": [
    "icao_dataframe = pd.DataFrame(data = icao_data + iata_data)"
   ]
  },
  {
   "cell_type": "code",
   "execution_count": null,
   "metadata": {},
   "outputs": [],
   "source": [
    "filtered_airport = icao_dataframe[icao_dataframe.error != {'text': 'No airport found'}]\n",
    "not_found_airport = icao_dataframe[icao_dataframe.error == {'text': 'No airport found'}]\n",
    "\n",
    "filtered_airport['id'] = filtered_airport['id'].astype(int)\n",
    "filtered_airport['longitude'] = filtered_airport['longitude'].astype(float)\n",
    "filtered_airport['latitude'] = filtered_airport['latitude'].astype(float)"
   ]
  },
  {
   "cell_type": "code",
   "execution_count": null,
   "metadata": {},
   "outputs": [],
   "source": [
    "aerodromo_schema = StructType([\n",
    "\tStructField('id', IntegerType(), True),\n",
    "\tStructField('iata', StringType(), True),\n",
    "\tStructField('icao', StringType(), True),\n",
    "\tStructField('name', StringType(), True),\n",
    "\tStructField('location', StringType(), True),\n",
    "\tStructField('street_number', StringType(), True),\n",
    "\tStructField('street', StringType(), True),\n",
    "\tStructField('city', StringType(), True),\n",
    "\tStructField('county', StringType(), True),\n",
    "\tStructField('state', StringType(), True),\n",
    "\tStructField('country_iso', StringType(), True),\n",
    "\tStructField('country', StringType(), True),\n",
    "\tStructField('postal_code', StringType(), True),\n",
    "\tStructField('phone', StringType(), True),\n",
    "\tStructField('latitude', DoubleType(), True),\n",
    "\tStructField('longitude', DoubleType(), True),\n",
    "\tStructField('utc', IntegerType(), True),\n",
    "\tStructField('websiite', StringType(), True)\n",
    "])\n",
    "\n",
    "aerodromo = spark.createDataFrame(filtered_airport)\n",
    "aerodromo = aerodromo.drop(col('error'))"
   ]
  },
  {
   "cell_type": "code",
   "execution_count": null,
   "metadata": {},
   "outputs": [],
   "source": [
    "aerodromo.write.format('parquet').mode('overwrite').save(f'{target_processed_data_dir}/aerodromo/aerodromo.parquet')"
   ]
  },
  {
   "cell_type": "markdown",
   "metadata": {},
   "source": [
    "## Views"
   ]
  },
  {
   "cell_type": "code",
   "execution_count": null,
   "metadata": {},
   "outputs": [],
   "source": [
    "aerodromo = spark.read.parquet(f'{target_processed_data_dir}/aerodromo/aerodromo.parquet')\n",
    "vra = spark.read.parquet(f'{target_processed_data_dir}/vra/vra.parquet')\n",
    "air_cia = spark.read.parquet(f'{target_processed_data_dir}/air_cia/air_cia.parquet')\n",
    "\n",
    "aerodromo.createOrReplaceTempView('aerodromo')\n",
    "vra.createOrReplaceTempView('vra')\n",
    "air_cia.createOrReplaceTempView('air_cia')"
   ]
  },
  {
   "cell_type": "markdown",
   "metadata": {},
   "source": [
    "### Origem-destino, mais frequente por empresa aérea"
   ]
  },
  {
   "cell_type": "code",
   "execution_count": null,
   "metadata": {},
   "outputs": [],
   "source": [
    "origin_destiny_most_frequence_query = \"\"\"\n",
    "SELECT\n",
    "    iata_empresa_aerea,\n",
    "    ac.razao_social,\n",
    "    oad.name as nome_origem,\n",
    "    icao_aerodromo_origem as icao_origem,\n",
    "    oad.state as estado_origem,\n",
    "    dad.name as nome_destino,\n",
    "    icao_aerodromo_destino as icao_destino,\n",
    "    dad.state as estado_destino,\n",
    "    num_voos\n",
    "FROM (\n",
    "    -- Rota mais frequente para cada empresa aérea\n",
    "    SELECT\n",
    "       iata_empresa_aerea,\n",
    "       icao_aerodromo_origem,\n",
    "       icao_aerodromo_destino,\n",
    "       COUNT(CONCAT(icao_aerodromo_origem, '_', icao_aerodromo_destino)) AS num_voos,\n",
    "       -- Falta remover trajetos empatados em numeros\n",
    "       row_number() OVER (PARTITION BY iata_empresa_aerea ORDER BY count(*) desc) AS rank\n",
    "    FROM vra\n",
    "    GROUP BY iata_empresa_aerea, icao_aerodromo_origem, icao_aerodromo_destino\n",
    "    ORDER BY num_voos desc\n",
    ") AS vra_most\n",
    "LEFT JOIN air_cia ac ON vra_most.iata_empresa_aerea = ac.iata\n",
    "LEFT JOIN aerodromo oad ON vra_most.icao_aerodromo_origem = oad.icao\n",
    "LEFT JOIN aerodromo dad ON vra_most.icao_aerodromo_destino = dad.icao\n",
    "WHERE rank = 1\n",
    "ORDER BY vra_most.num_voos DESC\n",
    "\"\"\"\n",
    "\n",
    "airline_origin_destiny_view = spark.sql(origin_destiny_most_frequence_query)\n",
    "airline_origin_destiny_view.show(10, truncate = False)"
   ]
  },
  {
   "cell_type": "markdown",
   "metadata": {},
   "source": [
    "### Contagem total de decolagens e pouso no Aeroporto com a empresa mais frequênte\n",
    "Totaliza o número de decolagens e pousos realizados no aeroporto pela empresa aérea que mais atuou no mesmo.\n",
    "\n",
    "Contabiliza o total de vezes que o aeroporto foi usado como origem ou destino pela empresa; é possível filtrar por voos realizados para totalizar o número de decolagens e pousos reais."
   ]
  },
  {
   "cell_type": "code",
   "execution_count": null,
   "metadata": {},
   "outputs": [],
   "source": [
    "airport_to_airline_relation = \"\"\"\n",
    "SELECT\n",
    "    ad.name as icao_name,\n",
    "    ad_to_cia.icao as icao,\n",
    "    ad_to_cia.iata_empresa_aerea as iata,\n",
    "    ac.razao_social as iata_razao_social,\n",
    "    o_count.num_origem as origem_total,\n",
    "    d_count.num_destino as destino_total,\n",
    "    ad_to_cia.num_cia as voos_total\n",
    "FROM (\n",
    "    -- Agrupamento e contagem de relação com empresa aérea e aeroporto\n",
    "    SELECT\n",
    "        ad.icao,\n",
    "        v.iata_empresa_aerea,\n",
    "        COUNT(v.iata_empresa_aerea) as num_cia,\n",
    "        row_number() OVER (PARTITION BY ad.icao ORDER BY count(*) desc) AS rank\n",
    "    FROM aerodromo ad\n",
    "    LEFT JOIN vra v ON v.icao_aerodromo_origem = ad.icao OR v.icao_aerodromo_destino = ad.icao\n",
    "    WHERE v.situacao_voo = \"REALIZADO\"\n",
    "    GROUP BY ad.icao, v.iata_empresa_aerea\n",
    ") AS ad_to_cia\n",
    "LEFT JOIN (\n",
    "    -- Contagem de total de voos como origem da empresa no aeroporto\n",
    "    SELECT\n",
    "        v.icao_aerodromo_origem as icao_origem,\n",
    "        v.iata_empresa_aerea as iata_origem,\n",
    "        COUNT(v.iata_empresa_aerea) as num_origem\n",
    "    FROM vra v\n",
    "    -- WHERE v.situacao_voo = \"REALIZADO\" -- Filtra rotas efetivamente realizadas, ao comentar, totaliza rotas registradas\n",
    "    GROUP BY v.icao_aerodromo_origem, v.iata_empresa_aerea\n",
    ") as o_count\n",
    "ON o_count.icao_origem = ad_to_cia.icao and o_count.iata_origem = ad_to_cia.iata_empresa_aerea\n",
    "LEFT JOIN (\n",
    "    -- Contagem de total de voos como destino da empresa no aeroporto\n",
    "    SELECT\n",
    "        v.icao_aerodromo_destino as icao_destino,\n",
    "        v.iata_empresa_aerea as iata_destino,\n",
    "        COUNT(v.iata_empresa_aerea) as num_destino\n",
    "    FROM vra v\n",
    "    -- WHERE v.situacao_voo = \"REALIZADO\" -- Filtra rotas efetivamente realizadas, ao comentar, totaliza rotas registradas\n",
    "    GROUP BY v.icao_aerodromo_destino, v.iata_empresa_aerea\n",
    ") as d_count\n",
    "ON d_count.icao_destino = ad_to_cia.icao and d_count.iata_destino = ad_to_cia.iata_empresa_aerea\n",
    "LEFT JOIN aerodromo ad ON ad.icao = ad_to_cia.icao\n",
    "LEFT JOIN air_cia ac ON ac.iata = ad_to_cia.iata_empresa_aerea\n",
    "\n",
    "WHERE ad_to_cia.rank = 1\n",
    "ORDER BY ad_to_cia.num_cia DESC\n",
    "\"\"\"\n",
    "\n",
    "airport_airline_view = spark.sql(airport_to_airline_relation)\n",
    "airport_airline_view.show(10, truncate = False)"
   ]
  },
  {
   "cell_type": "code",
   "execution_count": null,
   "metadata": {},
   "outputs": [],
   "source": [
    "airline_origin_destiny_view.write.format('parquet').mode('overwrite').save(f'{target_processed_data_dir}/airline_origin_destiny_view/airline_origin_destiny_view.parquet')\n",
    "airport_airline_view.write.format('parquet').mode('overwrite').save(f'{target_processed_data_dir}/airport_airline_view/airport_airline_view.parquet')"
   ]
  }
 ],
 "metadata": {
  "kernelspec": {
   "display_name": "Python 3.9.12 ('base')",
   "language": "python",
   "name": "python3"
  },
  "language_info": {
   "codemirror_mode": {
    "name": "ipython",
    "version": 3
   },
   "file_extension": ".py",
   "mimetype": "text/x-python",
   "name": "python",
   "nbconvert_exporter": "python",
   "pygments_lexer": "ipython3",
   "version": "3.9.12"
  },
  "orig_nbformat": 4,
  "vscode": {
   "interpreter": {
    "hash": "2bf0cc4c0169943300cc1e2a7f17c29feeb6fa1ad46cb9244f1a1309c84b3603"
   }
  }
 },
 "nbformat": 4,
 "nbformat_minor": 2
}
