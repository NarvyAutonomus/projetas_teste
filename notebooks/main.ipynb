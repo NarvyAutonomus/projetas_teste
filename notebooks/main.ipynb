{
 "cells": [
  {
   "cell_type": "code",
   "execution_count": null,
   "metadata": {},
   "outputs": [],
   "source": [
    "import os\n",
    "import json\n",
    "import time\n",
    "\n",
    "from utils import init_spark, remove_accents, to_snake_case, value_splitter\n",
    "from airport_api import AirportApi\n",
    "\n",
    "import pandas as pd\n",
    "\n",
    "from pyspark.sql.functions import col, to_timestamp\n",
    "from pyspark.sql.types import *"
   ]
  },
  {
   "cell_type": "markdown",
   "metadata": {},
   "source": [
    "### Diretórios dos dados\n",
    "extrair conteúdos de `AIR_CIA.zip` e `VRA.zip` (ambos com subpastas) na pasta `./raw_data` ou no diretório relativo em `relative_raw_data_dir`"
   ]
  },
  {
   "cell_type": "code",
   "execution_count": null,
   "metadata": {},
   "outputs": [],
   "source": [
    "relative_raw_data_dir = '../raw_data'\n",
    "relative_air_cia_dir = f'{relative_raw_data_dir}/AIR_CIA'\n",
    "relative_vra_dir = f'{relative_raw_data_dir}/VRA'\n",
    "\n",
    "# Local para salvar tabelas processadas\n",
    "target_processed_data_dir = '../processed_data'\n",
    "processed_air_cia_dir = f'{target_processed_data_dir}/air_cia/air_cia.parquet'\n",
    "processed_vra_dir = f'{target_processed_data_dir}/vra/vra.parquet'\n",
    "processed_aerodromo_dir = f'{target_processed_data_dir}/aerodromo/aerodromo.parquet'\n",
    "\n",
    "view_airline_origin_destiny_dir = f'{target_processed_data_dir}/airline_origin_destiny_view/airline_origin_destiny_view.parquet'\n",
    "view_airport_airline_dir = f'{target_processed_data_dir}/airport_airline_view/airline_origin_destiny_view.parquet'\n",
    "\n",
    "# Local para queries de views\n",
    "views_dir = '../views'\n",
    "query_airline_origin_destiny_dir = f'{views_dir}/airline_origin_destiny.sql'\n",
    "query_airport_airline_dir = f'{views_dir}/airport_airline.sql'"
   ]
  },
  {
   "cell_type": "markdown",
   "metadata": {},
   "source": [
    "### Inicialização do PySpark"
   ]
  },
  {
   "cell_type": "code",
   "execution_count": null,
   "metadata": {},
   "outputs": [],
   "source": [
    "spark = init_spark()"
   ]
  },
  {
   "cell_type": "code",
   "execution_count": null,
   "metadata": {},
   "outputs": [],
   "source": [
    "processed_air_cia = raw_air_cia = spark.read.options(header = True, delimiter=';').csv(relative_air_cia_dir)\n",
    "processed_vra = raw_vra = spark.read.json(relative_vra_dir)"
   ]
  },
  {
   "cell_type": "markdown",
   "metadata": {},
   "source": [
    "### Mudar nomes de coluna para snake case"
   ]
  },
  {
   "cell_type": "code",
   "execution_count": null,
   "metadata": {},
   "outputs": [],
   "source": [
    "for column_name in raw_air_cia.columns:\n",
    "    processed_air_cia = processed_air_cia.withColumnRenamed(column_name, to_snake_case(remove_accents(column_name)))\n",
    "\n",
    "for column_name in raw_vra.columns:\n",
    "    processed_vra = processed_vra.withColumnRenamed(column_name, to_snake_case(remove_accents(column_name)))"
   ]
  },
  {
   "cell_type": "markdown",
   "metadata": {},
   "source": [
    "## Procedimentos VRA"
   ]
  },
  {
   "cell_type": "markdown",
   "metadata": {},
   "source": [
    "### `icao_empresa_aerea` para `iata_empresa_aerea`\n",
    "Os valores desta coluna, na verdade estão listando os códigos IATA, é possível verificar isso através da chamada de API, quando o mesmo código não existe no índice de ICAO."
   ]
  },
  {
   "cell_type": "code",
   "execution_count": null,
   "metadata": {},
   "outputs": [],
   "source": [
    "processed_vra = processed_vra.withColumnRenamed('icao_empresa_aerea', 'iata_empresa_aerea')"
   ]
  },
  {
   "cell_type": "markdown",
   "metadata": {},
   "source": [
    "### Colunas de timestamp para `DateType`"
   ]
  },
  {
   "cell_type": "code",
   "execution_count": null,
   "metadata": {},
   "outputs": [],
   "source": [
    "processed_vra = processed_vra.withColumn('partida_prevista', to_timestamp(col('partida_prevista')))\\\n",
    "    .withColumn('chegada_prevista', to_timestamp(col('chegada_prevista')))\\\n",
    "    .withColumn('partida_real', to_timestamp(col('partida_real')))\\\n",
    "    .withColumn('chegada_real', to_timestamp(col('chegada_real')))"
   ]
  },
  {
   "cell_type": "code",
   "execution_count": null,
   "metadata": {},
   "outputs": [],
   "source": [
    "processed_vra.show(10)"
   ]
  },
  {
   "cell_type": "code",
   "execution_count": null,
   "metadata": {},
   "outputs": [],
   "source": [
    "processed_vra.write.format('parquet').mode('overwrite').save(processed_vra_dir)"
   ]
  },
  {
   "cell_type": "markdown",
   "metadata": {},
   "source": [
    "## Procedimentos AIR_CIA"
   ]
  },
  {
   "cell_type": "markdown",
   "metadata": {},
   "source": [
    "### Separação de colunas `icao_iata`"
   ]
  },
  {
   "cell_type": "code",
   "execution_count": null,
   "metadata": {},
   "outputs": [],
   "source": [
    "processed_air_cia = processed_air_cia.withColumn('iata', value_splitter(col('icao_iata'))[0])\\\n",
    "    .withColumn('icao', value_splitter(col('icao_iata'))[1])\\\n",
    "        .drop(col('icao_iata'))"
   ]
  },
  {
   "cell_type": "code",
   "execution_count": null,
   "metadata": {},
   "outputs": [],
   "source": [
    "processed_air_cia.show(10)"
   ]
  },
  {
   "cell_type": "code",
   "execution_count": null,
   "metadata": {},
   "outputs": [],
   "source": [
    "processed_air_cia.write.format('parquet').mode('overwrite').save(processed_air_cia_dir)"
   ]
  },
  {
   "cell_type": "markdown",
   "metadata": {},
   "source": [
    "## Procedimentos aerodromos"
   ]
  },
  {
   "cell_type": "code",
   "execution_count": null,
   "metadata": {},
   "outputs": [],
   "source": [
    "processed_vra = spark.read.parquet(processed_vra_dir)"
   ]
  },
  {
   "cell_type": "markdown",
   "metadata": {},
   "source": [
    "### Coletar IATA e ICAO"
   ]
  },
  {
   "cell_type": "code",
   "execution_count": null,
   "metadata": {},
   "outputs": [],
   "source": [
    "key = \"my-rapidapi-key\" # Adiquirir chave para API em https://rapidapi.com/Active-api/api/airport-info\n",
    "host = \"airport-info.p.rapidapi.com\"\n",
    "\n",
    "api = AirportApi(key, host)"
   ]
  },
  {
   "cell_type": "code",
   "execution_count": null,
   "metadata": {},
   "outputs": [],
   "source": [
    "collected_icao = []\n",
    "\n",
    "for row in processed_vra.select('icao_aerodromo_origem', 'icao_aerodromo_destino', 'iata_empresa_aerea').collect():\n",
    "    if row['icao_aerodromo_origem'] not in collected_icao:\n",
    "        collected_icao.append(row['icao_aerodromo_origem'])\n",
    "    if row['icao_aerodromo_destino'] not in collected_icao:\n",
    "        collected_icao.append(row['icao_aerodromo_destino'])"
   ]
  },
  {
   "cell_type": "code",
   "execution_count": null,
   "metadata": {},
   "outputs": [],
   "source": [
    "icao_data = []\n",
    "\n",
    "for icao in collected_icao:\n",
    "    this_icao = api.get_airport_info_by_icao(icao)\n",
    "    this_icao = json.loads(this_icao)\n",
    "\n",
    "    if this_icao.get('error', None):\n",
    "        this_icao['icao'] = icao\n",
    "        \n",
    "    icao_data.append(this_icao)"
   ]
  },
  {
   "cell_type": "code",
   "execution_count": null,
   "metadata": {},
   "outputs": [],
   "source": [
    "icao_dataframe = pd.DataFrame(data = icao_data)"
   ]
  },
  {
   "cell_type": "code",
   "execution_count": null,
   "metadata": {},
   "outputs": [],
   "source": [
    "filtered_airport = icao_dataframe[icao_dataframe.error != {'text': 'No airport found'}]\n",
    "not_found_airport = icao_dataframe[icao_dataframe.error == {'text': 'No airport found'}]\n",
    "\n",
    "filtered_airport['id'] = filtered_airport['id'].astype(int)\n",
    "filtered_airport['longitude'] = filtered_airport['longitude'].astype(float)\n",
    "filtered_airport['latitude'] = filtered_airport['latitude'].astype(float)"
   ]
  },
  {
   "cell_type": "code",
   "execution_count": null,
   "metadata": {},
   "outputs": [],
   "source": [
    "aerodromo_schema = StructType([\n",
    "\tStructField('id', IntegerType(), True),\n",
    "\tStructField('iata', StringType(), True),\n",
    "\tStructField('icao', StringType(), True),\n",
    "\tStructField('name', StringType(), True),\n",
    "\tStructField('location', StringType(), True),\n",
    "\tStructField('street_number', StringType(), True),\n",
    "\tStructField('street', StringType(), True),\n",
    "\tStructField('city', StringType(), True),\n",
    "\tStructField('county', StringType(), True),\n",
    "\tStructField('state', StringType(), True),\n",
    "\tStructField('country_iso', StringType(), True),\n",
    "\tStructField('country', StringType(), True),\n",
    "\tStructField('postal_code', StringType(), True),\n",
    "\tStructField('phone', StringType(), True),\n",
    "\tStructField('latitude', DoubleType(), True),\n",
    "\tStructField('longitude', DoubleType(), True),\n",
    "\tStructField('utc', IntegerType(), True),\n",
    "\tStructField('websiite', StringType(), True)\n",
    "])\n",
    "\n",
    "aerodromo = spark.createDataFrame(filtered_airport)\n",
    "aerodromo = aerodromo.drop(col('error'))"
   ]
  },
  {
   "cell_type": "code",
   "execution_count": null,
   "metadata": {},
   "outputs": [],
   "source": [
    "aerodromo.show(10)"
   ]
  },
  {
   "cell_type": "code",
   "execution_count": null,
   "metadata": {},
   "outputs": [],
   "source": [
    "aerodromo.write.format('parquet').mode('overwrite').save(processed_aerodromo_dir)"
   ]
  },
  {
   "cell_type": "markdown",
   "metadata": {},
   "source": [
    "## Views"
   ]
  },
  {
   "cell_type": "code",
   "execution_count": null,
   "metadata": {},
   "outputs": [],
   "source": [
    "aerodromo = spark.read.parquet(processed_aerodromo_dir)\n",
    "vra = spark.read.parquet(processed_vra_dir)\n",
    "air_cia = spark.read.parquet(processed_air_cia_dir)\n",
    "\n",
    "aerodromo.createOrReplaceTempView('aerodromo')\n",
    "vra.createOrReplaceTempView('vra')\n",
    "air_cia.createOrReplaceTempView('air_cia')"
   ]
  },
  {
   "cell_type": "markdown",
   "metadata": {},
   "source": [
    "### Origem-destino, mais frequente por empresa aérea"
   ]
  },
  {
   "cell_type": "code",
   "execution_count": null,
   "metadata": {},
   "outputs": [],
   "source": [
    "origin_destiny_most_frequence = open(query_airline_origin_destiny_dir).read()\n",
    "\n",
    "try:\n",
    "    airline_origin_destiny_view = spark.sql(origin_destiny_most_frequence)\n",
    "    airline_origin_destiny_view.show(10, truncate = False)\n",
    "except Exception as e:\n",
    "    print(e)"
   ]
  },
  {
   "cell_type": "markdown",
   "metadata": {},
   "source": [
    "### Contagem total de decolagens e pouso no Aeroporto com a empresa mais frequênte\n",
    "Totaliza o número de decolagens e pousos realizados no aeroporto pela empresa aérea que mais atuou no mesmo.\n",
    "\n",
    "Contabiliza o total de vezes que o aeroporto foi usado como origem ou destino pela empresa; é possível filtrar por voos realizados para totalizar o número de decolagens e pousos reais."
   ]
  },
  {
   "cell_type": "code",
   "execution_count": null,
   "metadata": {},
   "outputs": [],
   "source": [
    "airport_to_airline_relation = open(query_airport_airline_dir).read()\n",
    "\n",
    "try:\n",
    "    airport_airline_view = spark.sql(airport_to_airline_relation)\n",
    "    airport_airline_view.show(10, truncate = False)\n",
    "except Exception as e:\n",
    "    print(e)"
   ]
  },
  {
   "cell_type": "code",
   "execution_count": null,
   "metadata": {},
   "outputs": [],
   "source": [
    "airline_origin_destiny_view.write.format('parquet').mode('overwrite').save(view_airline_origin_destiny_dir)\n",
    "airport_airline_view.write.format('parquet').mode('overwrite').save(view_airport_airline_dir)"
   ]
  }
 ],
 "metadata": {
  "kernelspec": {
   "display_name": "Python 3.7.13 ('projetas_teste')",
   "language": "python",
   "name": "python3"
  },
  "language_info": {
   "codemirror_mode": {
    "name": "ipython",
    "version": 3
   },
   "file_extension": ".py",
   "mimetype": "text/x-python",
   "name": "python",
   "nbconvert_exporter": "python",
   "pygments_lexer": "ipython3",
   "version": "3.7.13"
  },
  "orig_nbformat": 4,
  "vscode": {
   "interpreter": {
    "hash": "86864503970afd6f24120bdadfc60d5c5292221b2757cf2bf1ba2fe0debbecff"
   }
  }
 },
 "nbformat": 4,
 "nbformat_minor": 2
}
